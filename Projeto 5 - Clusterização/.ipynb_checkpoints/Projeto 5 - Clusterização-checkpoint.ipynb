{
 "cells": [
  {
   "cell_type": "markdown",
   "id": "d7b8ab0f",
   "metadata": {},
   "source": [
    "## <a> Objetivo de estudo </a> \n",
    "\n",
    "Neste projeto serão criados clusters (grupos) de clientes, também conhecido como segmentação de clientes. Serão aproveitados os componentes principais que foram criados no \"Projeto 4 - PCA\", para segmentar e avaliar quais clusters serão utilizados."
   ]
  },
  {
   "cell_type": "code",
   "execution_count": 29,
   "id": "86524abf",
   "metadata": {},
   "outputs": [],
   "source": [
    "# Importando as bibliotecas necessárias\n",
    "\n",
    "import pandas as pd\n",
    "import numpy as np\n",
    "import matplotlib.pyplot as plt\n",
    "import seaborn as sns\n",
    "import plotly.express as px\n",
    "from sklearn.cluster import KMeans"
   ]
  },
  {
   "cell_type": "code",
   "execution_count": 30,
   "id": "c67c54a9",
   "metadata": {},
   "outputs": [],
   "source": [
    "# Importando os conjuntos de dados\n",
    "\n",
    "pd.set_option('display.max_columns', None)\n",
    "\n",
    "data = pd.read_csv('microvan.csv')\n",
    "data_pca = pd.read_csv('microvan_pca', sep=',').round(2)"
   ]
  },
  {
   "cell_type": "code",
   "execution_count": 31,
   "id": "d2211f26",
   "metadata": {},
   "outputs": [
    {
     "data": {
      "text/html": [
       "<div>\n",
       "<style scoped>\n",
       "    .dataframe tbody tr th:only-of-type {\n",
       "        vertical-align: middle;\n",
       "    }\n",
       "\n",
       "    .dataframe tbody tr th {\n",
       "        vertical-align: top;\n",
       "    }\n",
       "\n",
       "    .dataframe thead th {\n",
       "        text-align: right;\n",
       "    }\n",
       "</style>\n",
       "<table border=\"1\" class=\"dataframe\">\n",
       "  <thead>\n",
       "    <tr style=\"text-align: right;\">\n",
       "      <th></th>\n",
       "      <th>age</th>\n",
       "      <th>income</th>\n",
       "      <th>miles</th>\n",
       "      <th>numkids</th>\n",
       "      <th>female</th>\n",
       "      <th>educ</th>\n",
       "      <th>recycle</th>\n",
       "      <th>mvliking</th>\n",
       "      <th>Workaholic</th>\n",
       "      <th>Compactos</th>\n",
       "      <th>Familiares</th>\n",
       "      <th>Intrépidos</th>\n",
       "      <th>Automotivos</th>\n",
       "    </tr>\n",
       "  </thead>\n",
       "  <tbody>\n",
       "    <tr>\n",
       "      <th>0</th>\n",
       "      <td>34</td>\n",
       "      <td>59</td>\n",
       "      <td>14</td>\n",
       "      <td>1</td>\n",
       "      <td>0</td>\n",
       "      <td>1</td>\n",
       "      <td>3</td>\n",
       "      <td>4</td>\n",
       "      <td>4.96</td>\n",
       "      <td>-0.63</td>\n",
       "      <td>0.25</td>\n",
       "      <td>4.53</td>\n",
       "      <td>0.48</td>\n",
       "    </tr>\n",
       "    <tr>\n",
       "      <th>1</th>\n",
       "      <td>36</td>\n",
       "      <td>79</td>\n",
       "      <td>16</td>\n",
       "      <td>1</td>\n",
       "      <td>0</td>\n",
       "      <td>3</td>\n",
       "      <td>4</td>\n",
       "      <td>6</td>\n",
       "      <td>-0.43</td>\n",
       "      <td>-4.58</td>\n",
       "      <td>-2.68</td>\n",
       "      <td>-2.62</td>\n",
       "      <td>-0.50</td>\n",
       "    </tr>\n",
       "    <tr>\n",
       "      <th>2</th>\n",
       "      <td>51</td>\n",
       "      <td>72</td>\n",
       "      <td>22</td>\n",
       "      <td>2</td>\n",
       "      <td>1</td>\n",
       "      <td>3</td>\n",
       "      <td>3</td>\n",
       "      <td>3</td>\n",
       "      <td>-4.20</td>\n",
       "      <td>6.00</td>\n",
       "      <td>2.46</td>\n",
       "      <td>1.55</td>\n",
       "      <td>-2.41</td>\n",
       "    </tr>\n",
       "    <tr>\n",
       "      <th>3</th>\n",
       "      <td>32</td>\n",
       "      <td>42</td>\n",
       "      <td>12</td>\n",
       "      <td>0</td>\n",
       "      <td>0</td>\n",
       "      <td>3</td>\n",
       "      <td>2</td>\n",
       "      <td>3</td>\n",
       "      <td>4.89</td>\n",
       "      <td>-0.93</td>\n",
       "      <td>-0.76</td>\n",
       "      <td>-3.58</td>\n",
       "      <td>3.52</td>\n",
       "    </tr>\n",
       "    <tr>\n",
       "      <th>4</th>\n",
       "      <td>40</td>\n",
       "      <td>75</td>\n",
       "      <td>17</td>\n",
       "      <td>1</td>\n",
       "      <td>1</td>\n",
       "      <td>3</td>\n",
       "      <td>4</td>\n",
       "      <td>1</td>\n",
       "      <td>0.12</td>\n",
       "      <td>5.55</td>\n",
       "      <td>-1.02</td>\n",
       "      <td>0.07</td>\n",
       "      <td>-0.84</td>\n",
       "    </tr>\n",
       "  </tbody>\n",
       "</table>\n",
       "</div>"
      ],
      "text/plain": [
       "   age  income  miles  numkids  female  educ  recycle  mvliking  Workaholic  \\\n",
       "0   34      59     14        1       0     1        3         4        4.96   \n",
       "1   36      79     16        1       0     3        4         6       -0.43   \n",
       "2   51      72     22        2       1     3        3         3       -4.20   \n",
       "3   32      42     12        0       0     3        2         3        4.89   \n",
       "4   40      75     17        1       1     3        4         1        0.12   \n",
       "\n",
       "   Compactos  Familiares  Intrépidos  Automotivos  \n",
       "0      -0.63        0.25        4.53         0.48  \n",
       "1      -4.58       -2.68       -2.62        -0.50  \n",
       "2       6.00        2.46        1.55        -2.41  \n",
       "3      -0.93       -0.76       -3.58         3.52  \n",
       "4       5.55       -1.02        0.07        -0.84  "
      ]
     },
     "execution_count": 31,
     "metadata": {},
     "output_type": "execute_result"
    }
   ],
   "source": [
    "# Atribuindo os componentes em cada indivíduo\n",
    "\n",
    "col_demograficas = data.columns[-7:].tolist()\n",
    "col_demograficas.append('mvliking')\n",
    "\n",
    "df = data[col_demograficas].join(data_pca)\n",
    "df.head()"
   ]
  },
  {
   "cell_type": "code",
   "execution_count": 22,
   "id": "9896f5c2",
   "metadata": {},
   "outputs": [
    {
     "data": {
      "image/png": "[encoded data removed]",
      "text/plain": [
       "<Figure size 432x288 with 1 Axes>"
      ]
     },
     "metadata": {
      "needs_background": "light"
     },
     "output_type": "display_data"
    }
   ],
   "source": [
    "# Definindo o erro para cada cluster com o objetivo de definir o número de grupos ideal.\n",
    "sse = {}\n",
    "\n",
    "for k in range(1, 11):\n",
    "    kmeans = KMeans(n_clusters=k, max_iter=1000).fit(df.loc[:, ['Workaholic', 'Compactos', 'Familiares', 'Intrépidos', 'Automotivos']])\n",
    "    \n",
    "    # Calcula a soma das distancias entre as observações e o centro de seu cluster\n",
    "    sse[k] = kmeans.inertia_\n",
    "    \n",
    "plt.figure()\n",
    "plt.plot(list(sse.keys()), list(sse.values()))\n",
    "plt.ylabel('Número de clusters')\n",
    "plt.xlabel('SSE')\n",
    "plt.show()"
   ]
  },
  {
   "cell_type": "code",
   "execution_count": 32,
   "id": "31920968",
   "metadata": {},
   "outputs": [
    {
     "data": {
      "text/html": [
       "<div>\n",
       "<style scoped>\n",
       "    .dataframe tbody tr th:only-of-type {\n",
       "        vertical-align: middle;\n",
       "    }\n",
       "\n",
       "    .dataframe tbody tr th {\n",
       "        vertical-align: top;\n",
       "    }\n",
       "\n",
       "    .dataframe thead th {\n",
       "        text-align: right;\n",
       "    }\n",
       "</style>\n",
       "<table border=\"1\" class=\"dataframe\">\n",
       "  <thead>\n",
       "    <tr style=\"text-align: right;\">\n",
       "      <th></th>\n",
       "      <th>age</th>\n",
       "      <th>income</th>\n",
       "      <th>miles</th>\n",
       "      <th>numkids</th>\n",
       "      <th>female</th>\n",
       "      <th>educ</th>\n",
       "      <th>recycle</th>\n",
       "      <th>mvliking</th>\n",
       "      <th>Workaholic</th>\n",
       "      <th>Compactos</th>\n",
       "      <th>Familiares</th>\n",
       "      <th>Intrépidos</th>\n",
       "      <th>Automotivos</th>\n",
       "      <th>Clusters</th>\n",
       "    </tr>\n",
       "  </thead>\n",
       "  <tbody>\n",
       "    <tr>\n",
       "      <th>0</th>\n",
       "      <td>34</td>\n",
       "      <td>59</td>\n",
       "      <td>14</td>\n",
       "      <td>1</td>\n",
       "      <td>0</td>\n",
       "      <td>1</td>\n",
       "      <td>3</td>\n",
       "      <td>4</td>\n",
       "      <td>4.96</td>\n",
       "      <td>-0.63</td>\n",
       "      <td>0.25</td>\n",
       "      <td>4.53</td>\n",
       "      <td>0.48</td>\n",
       "      <td>1</td>\n",
       "    </tr>\n",
       "    <tr>\n",
       "      <th>1</th>\n",
       "      <td>36</td>\n",
       "      <td>79</td>\n",
       "      <td>16</td>\n",
       "      <td>1</td>\n",
       "      <td>0</td>\n",
       "      <td>3</td>\n",
       "      <td>4</td>\n",
       "      <td>6</td>\n",
       "      <td>-0.43</td>\n",
       "      <td>-4.58</td>\n",
       "      <td>-2.68</td>\n",
       "      <td>-2.62</td>\n",
       "      <td>-0.50</td>\n",
       "      <td>0</td>\n",
       "    </tr>\n",
       "    <tr>\n",
       "      <th>2</th>\n",
       "      <td>51</td>\n",
       "      <td>72</td>\n",
       "      <td>22</td>\n",
       "      <td>2</td>\n",
       "      <td>1</td>\n",
       "      <td>3</td>\n",
       "      <td>3</td>\n",
       "      <td>3</td>\n",
       "      <td>-4.20</td>\n",
       "      <td>6.00</td>\n",
       "      <td>2.46</td>\n",
       "      <td>1.55</td>\n",
       "      <td>-2.41</td>\n",
       "      <td>2</td>\n",
       "    </tr>\n",
       "    <tr>\n",
       "      <th>3</th>\n",
       "      <td>32</td>\n",
       "      <td>42</td>\n",
       "      <td>12</td>\n",
       "      <td>0</td>\n",
       "      <td>0</td>\n",
       "      <td>3</td>\n",
       "      <td>2</td>\n",
       "      <td>3</td>\n",
       "      <td>4.89</td>\n",
       "      <td>-0.93</td>\n",
       "      <td>-0.76</td>\n",
       "      <td>-3.58</td>\n",
       "      <td>3.52</td>\n",
       "      <td>1</td>\n",
       "    </tr>\n",
       "    <tr>\n",
       "      <th>4</th>\n",
       "      <td>40</td>\n",
       "      <td>75</td>\n",
       "      <td>17</td>\n",
       "      <td>1</td>\n",
       "      <td>1</td>\n",
       "      <td>3</td>\n",
       "      <td>4</td>\n",
       "      <td>1</td>\n",
       "      <td>0.12</td>\n",
       "      <td>5.55</td>\n",
       "      <td>-1.02</td>\n",
       "      <td>0.07</td>\n",
       "      <td>-0.84</td>\n",
       "      <td>2</td>\n",
       "    </tr>\n",
       "  </tbody>\n",
       "</table>\n",
       "</div>"
      ],
      "text/plain": [
       "   age  income  miles  numkids  female  educ  recycle  mvliking  Workaholic  \\\n",
       "0   34      59     14        1       0     1        3         4        4.96   \n",
       "1   36      79     16        1       0     3        4         6       -0.43   \n",
       "2   51      72     22        2       1     3        3         3       -4.20   \n",
       "3   32      42     12        0       0     3        2         3        4.89   \n",
       "4   40      75     17        1       1     3        4         1        0.12   \n",
       "\n",
       "   Compactos  Familiares  Intrépidos  Automotivos  Clusters  \n",
       "0      -0.63        0.25        4.53         0.48         1  \n",
       "1      -4.58       -2.68       -2.62        -0.50         0  \n",
       "2       6.00        2.46        1.55        -2.41         2  \n",
       "3      -0.93       -0.76       -3.58         3.52         1  \n",
       "4       5.55       -1.02        0.07        -0.84         2  "
      ]
     },
     "execution_count": 32,
     "metadata": {},
     "output_type": "execute_result"
    }
   ],
   "source": [
    "# O \"cotovelo\" se formou no cluster de número 3. Será o valor utilizado.\n",
    "\n",
    "kmeans = KMeans(n_clusters=3, max_iter=1000).fit(df.loc[:, ['Workaholic', 'Compactos', 'Familiares', 'Intrépidos', 'Automotivos']])\n",
    "\n",
    "# Incluindo a informação de qual cluster cada observação pertence\n",
    "df['Clusters'] = kmeans.labels_\n",
    "\n",
    "df.head()"
   ]
  },
  {
   "cell_type": "code",
   "execution_count": 33,
   "id": "bd6d486a",
   "metadata": {
    "scrolled": true
   },
   "outputs": [
    {
     "data": {
      "text/html": [
       "<div>\n",
       "<style scoped>\n",
       "    .dataframe tbody tr th:only-of-type {\n",
       "        vertical-align: middle;\n",
       "    }\n",
       "\n",
       "    .dataframe tbody tr th {\n",
       "        vertical-align: top;\n",
       "    }\n",
       "\n",
       "    .dataframe thead th {\n",
       "        text-align: right;\n",
       "    }\n",
       "</style>\n",
       "<table border=\"1\" class=\"dataframe\">\n",
       "  <thead>\n",
       "    <tr style=\"text-align: right;\">\n",
       "      <th></th>\n",
       "      <th>Workaholic</th>\n",
       "      <th>Compactos</th>\n",
       "      <th>Familiares</th>\n",
       "      <th>Intrépidos</th>\n",
       "      <th>Automotivos</th>\n",
       "    </tr>\n",
       "  </thead>\n",
       "  <tbody>\n",
       "    <tr>\n",
       "      <th>0</th>\n",
       "      <td>-3.481478</td>\n",
       "      <td>-3.880174</td>\n",
       "      <td>0.007478</td>\n",
       "      <td>-0.010174</td>\n",
       "      <td>-0.069043</td>\n",
       "    </tr>\n",
       "    <tr>\n",
       "      <th>1</th>\n",
       "      <td>4.823522</td>\n",
       "      <td>-0.173711</td>\n",
       "      <td>0.260881</td>\n",
       "      <td>-0.083962</td>\n",
       "      <td>-0.039748</td>\n",
       "    </tr>\n",
       "    <tr>\n",
       "      <th>2</th>\n",
       "      <td>-2.908889</td>\n",
       "      <td>3.760159</td>\n",
       "      <td>-0.336508</td>\n",
       "      <td>0.115873</td>\n",
       "      <td>0.113254</td>\n",
       "    </tr>\n",
       "  </tbody>\n",
       "</table>\n",
       "</div>"
      ],
      "text/plain": [
       "   Workaholic  Compactos  Familiares  Intrépidos  Automotivos\n",
       "0   -3.481478  -3.880174    0.007478   -0.010174    -0.069043\n",
       "1    4.823522  -0.173711    0.260881   -0.083962    -0.039748\n",
       "2   -2.908889   3.760159   -0.336508    0.115873     0.113254"
      ]
     },
     "execution_count": 33,
     "metadata": {},
     "output_type": "execute_result"
    }
   ],
   "source": [
    "# Visualizando os centróides para cada cluster. Nota-se que os componentes \"Workaholic\" e \"Compactos\" tiveram maior impacto.\n",
    "\n",
    "centroides = pd.DataFrame(data=kmeans.cluster_centers_, columns=['Workaholic', 'Compactos', 'Familiares', 'Intrépidos', 'Automotivos'])\n",
    "centroides"
   ]
  },
  {
   "cell_type": "markdown",
   "id": "65aaad90",
   "metadata": {},
   "source": [
    "#### Conclui-se que os clusters possuem as seguintes características:\n",
    "\n",
    "Cluster 0: Não tem cuidado com o dinheiro (gastam bastante), amam férias e gostam de carros espaçosos.\n",
    "\n",
    "Cluster 1: Não tem cuidado com o dinheiro (gastam bastante), amam férias e gostam de carros pequenos.\n",
    "\n",
    "Cluster 2: São apegados ao dinheiro e não tiram férias."
   ]
  },
  {
   "cell_type": "code",
   "execution_count": 34,
   "id": "98d25444",
   "metadata": {},
   "outputs": [],
   "source": [
    "# Criando um Dataframe para cada cluster para facilitar a análise dos grupos\n",
    "\n",
    "cluster0 = df.loc[df['Clusters'] == 0]\n",
    "cluster1 = df.loc[df['Clusters'] == 1]\n",
    "cluster2 = df.loc[df['Clusters'] == 2]"
   ]
  },
  {
   "cell_type": "markdown",
   "id": "433d90c0",
   "metadata": {},
   "source": [
    "### Análise dos clusters"
   ]
  },
  {
   "cell_type": "code",
   "execution_count": 35,
   "id": "cc452963",
   "metadata": {},
   "outputs": [
    {
     "data": {
      "image/png": "[encoded data removed]",
      "text/plain": [
       "<Figure size 576x1296 with 15 Axes>"
      ]
     },
     "metadata": {
      "needs_background": "light"
     },
     "output_type": "display_data"
    }
   ],
   "source": [
    "# Visualizando a distribuição dos dados em cada cluster.\n",
    "\n",
    "variaveis = ['age', 'income', 'miles', 'numkids', 'mvliking']\n",
    "\n",
    "fig, ax = plt.subplots(5, 3, layout='constrained', figsize=(8, 18))\n",
    "\n",
    "for i in range(3):\n",
    "    cluster = globals()[f'cluster{i}']\n",
    "    for j, variavel in enumerate(variaveis):\n",
    "        sns.boxplot(data=cluster, y=cluster[variavel], ax=ax[j, i]).set_title(f'cluster{i}')\n",
    "\n",
    "plt.show()"
   ]
  },
  {
   "cell_type": "code",
   "execution_count": 36,
   "id": "0df991a7",
   "metadata": {
    "scrolled": true
   },
   "outputs": [
    {
     "data": {
      "image/png": "[encoded data removed]",
      "text/plain": [
       "<Figure size 720x288 with 3 Axes>"
      ]
     },
     "metadata": {
      "needs_background": "light"
     },
     "output_type": "display_data"
    }
   ],
   "source": [
    "# Visualizando a distribuição das notas dadas ao protótipo de veículo apresentado\n",
    "\n",
    "fig, ax = plt.subplots(1, 3, layout='constrained', figsize=(10, 4))\n",
    "\n",
    "for i in range(3):\n",
    "    cluster = globals()[f'cluster{i}']\n",
    "    for j in range(3):\n",
    "        sns.histplot(data=cluster, x='mvliking', ax=ax[i], bins=10).set_title(f'cluster{i}')"
   ]
  },
  {
   "cell_type": "markdown",
   "id": "62008a18",
   "metadata": {},
   "source": [
    "#### Pessoas do cluster0 gostaram mais do veículo apresentado. Sendo assim, esse agrupamento será o foco principal da camapanha."
   ]
  },
  {
   "cell_type": "code",
   "execution_count": 69,
   "id": "d4af3bf5",
   "metadata": {},
   "outputs": [
    {
     "data": {
      "image/png": "[encoded data removed]",
      "text/plain": [
       "<Figure size 720x432 with 2 Axes>"
      ]
     },
     "metadata": {
      "needs_background": "light"
     },
     "output_type": "display_data"
    }
   ],
   "source": [
    "# Verificando se há correlação com a variável \"mvliking\".\n",
    "\n",
    "plt.figure(figsize=(10,6))\n",
    "sns.heatmap(df[['age','income','miles','numkids','female','educ','recycle','mvliking']].corr(), annot=True)\n",
    "plt.show()"
   ]
  },
  {
   "cell_type": "markdown",
   "id": "76839310",
   "metadata": {},
   "source": [
    "#### É possível identificar que nas variáveis \"idade\" e \"female\" existem maiores correlações. Sendo assim, este será o foco da análise"
   ]
  },
  {
   "cell_type": "markdown",
   "id": "bdeb4f07",
   "metadata": {},
   "source": [
    "### Análise do cluster0"
   ]
  },
  {
   "cell_type": "code",
   "execution_count": 37,
   "id": "08aa8eab",
   "metadata": {
    "scrolled": false
   },
   "outputs": [
    {
     "data": {
      "image/png": "[encoded data removed]",
      "text/plain": [
       "<Figure size 432x288 with 1 Axes>"
      ]
     },
     "metadata": {
      "needs_background": "light"
     },
     "output_type": "display_data"
    }
   ],
   "source": [
    "# Distribuição da idade no cluster0\n",
    "\n",
    "sns.histplot(data=cluster0, x='age', bins=20).set_title('Distribuição das idades no cluster0')\n",
    "plt.show()"
   ]
  },
  {
   "cell_type": "markdown",
   "id": "3c489e63",
   "metadata": {},
   "source": [
    "#### Para um melhor aproveitamento do dinheiro da campanha, o ideal seria investir apenas nas pessoas com idades entre 35 e 55 anos, presentes no cluster0."
   ]
  },
  {
   "cell_type": "code",
   "execution_count": 74,
   "id": "50ce0024",
   "metadata": {
    "scrolled": false
   },
   "outputs": [
    {
     "data": {
      "image/png": "[encoded data removed]",
      "text/plain": [
       "<Figure size 432x288 with 1 Axes>"
      ]
     },
     "metadata": {
      "needs_background": "light"
     },
     "output_type": "display_data"
    }
   ],
   "source": [
    "# Distribuição de sexo no cluster 0\n",
    "\n",
    "sns.countplot(data=cluster0.loc[(cluster0['age'] > 35) & (cluster0['age'] < 55) & (cluster0['mvliking'] >= 7)], x='female').set_title('Distribuição de sexo no cluster0')\n",
    "plt.show() "
   ]
  },
  {
   "cell_type": "markdown",
   "id": "bda3e501",
   "metadata": {},
   "source": [
    "#### Por mais que exista um leve desbalanceamento entre homens e mulheres no cluster0, creio que não exista necessidade de atender o sexo predominante do cluster (feminino) durante a campanha de marketing. Essa estratégia poderá ser válida dependendo do dinheiro disponível."
   ]
  },
  {
   "cell_type": "markdown",
   "id": "cb4eacbc",
   "metadata": {},
   "source": [
    "### Análise dos demais clusters"
   ]
  },
  {
   "cell_type": "code",
   "execution_count": 41,
   "id": "06a7ef0e",
   "metadata": {},
   "outputs": [
    {
     "data": {
      "text/plain": [
       "age\n",
       "26    1\n",
       "27    2\n",
       "28    4\n",
       "30    1\n",
       "32    3\n",
       "34    2\n",
       "35    2\n",
       "36    4\n",
       "37    1\n",
       "38    2\n",
       "41    3\n",
       "42    1\n",
       "46    1\n",
       "Name: age, dtype: int64"
      ]
     },
     "execution_count": 41,
     "metadata": {},
     "output_type": "execute_result"
    }
   ],
   "source": [
    "# Análise de idades no cluster1, filtrando apenas pessoas que realmente gostaram do veículo proposto.\n",
    "\n",
    "cluster1.loc[cluster1['mvliking'] >= 7].groupby('age')['age'].count()"
   ]
  },
  {
   "cell_type": "code",
   "execution_count": 43,
   "id": "2f2838ca",
   "metadata": {},
   "outputs": [
    {
     "data": {
      "image/png": "[encoded data removed]",
      "text/plain": [
       "<Figure size 432x288 with 1 Axes>"
      ]
     },
     "metadata": {
      "needs_background": "light"
     },
     "output_type": "display_data"
    }
   ],
   "source": [
    "# Verificando se há uma grande diferença entre sexos entre as pessoas que mais gostaram do protótipo (cluster1)\n",
    "\n",
    "sns.countplot(data=cluster1.loc[(cluster1['age'] >= 28) & (cluster1['age'] <= 41) & (cluster1['mvliking'] >= 7)], x='female').set_title('Distribuição de sexo no cluster1')\n",
    "plt.show()"
   ]
  },
  {
   "cell_type": "code",
   "execution_count": 44,
   "id": "63d7ff34",
   "metadata": {},
   "outputs": [
    {
     "data": {
      "text/plain": [
       "age\n",
       "36    1\n",
       "39    1\n",
       "40    1\n",
       "42    1\n",
       "44    1\n",
       "45    3\n",
       "46    5\n",
       "47    3\n",
       "50    2\n",
       "51    2\n",
       "52    2\n",
       "53    2\n",
       "55    1\n",
       "56    1\n",
       "60    2\n",
       "Name: age, dtype: int64"
      ]
     },
     "execution_count": 44,
     "metadata": {},
     "output_type": "execute_result"
    }
   ],
   "source": [
    "# Análise de idades no cluster2, filtrando apenas pessoas que realmente gostaram do veículo proposto.\n",
    "\n",
    "cluster2.loc[cluster2['mvliking'] >= 7].groupby('age')['age'].count()"
   ]
  },
  {
   "cell_type": "code",
   "execution_count": 72,
   "id": "33943495",
   "metadata": {
    "scrolled": true
   },
   "outputs": [
    {
     "data": {
      "image/png": "[encoded data removed]",
      "text/plain": [
       "<Figure size 432x288 with 1 Axes>"
      ]
     },
     "metadata": {
      "needs_background": "light"
     },
     "output_type": "display_data"
    }
   ],
   "source": [
    "# Verificando se há uma grande diferença entre sexos entre as pessoas que mais gostaram do protótipo (cluster1)\n",
    "\n",
    "sns.countplot(data=cluster2.loc[(cluster2['age'] >= 45) & (cluster2['age'] <= 53) & (cluster2['mvliking'] >= 7)], x='female').set_title('Distribuição de sexo no cluster2')\n",
    "plt.show()"
   ]
  },
  {
   "cell_type": "markdown",
   "id": "682ed520",
   "metadata": {},
   "source": [
    "## Conclusão"
   ]
  },
  {
   "cell_type": "code",
   "execution_count": 71,
   "id": "1a71615b",
   "metadata": {
    "scrolled": true
   },
   "outputs": [
    {
     "name": "stdout",
     "output_type": "stream",
     "text": [
      "No cluster0, foram 65 pessoas que gostaram do protótipo.\n",
      "Já no cluster1 e cluster2, o valor foi muito próximo, sendo 27 e 28, respectivamente\n",
      "\n",
      "Sendo assim, é possível distribuir o dinheiro da campanha da seguinte forma:\n",
      "53.28% para o cluster0, investindo apenas nas pessoas com idades entre 35 e 55 anos, sem distinção de sexo.\n",
      "22.13% para o cluster1, investindo apenas em pessoas do sexo masculino com idade entre 28 e 41 anos.\n",
      "22.95% para o cluster1, investindo apenas em pessoas do sexo masculino com idade entre 45 e 53 anos.\n"
     ]
    }
   ],
   "source": [
    "print(f\"No cluster0, foram {sum(cluster0['mvliking'] >= 7)} pessoas que gostaram do protótipo.\")\n",
    "print(f\"Já no cluster1 e cluster2, o valor foi muito próximo, sendo {sum(cluster1['mvliking'] >= 7)} e {sum(cluster2['mvliking'] >= 7)}, respectivamente\")\n",
    "print('')\n",
    "print('Sendo assim, é possível distribuir o dinheiro da campanha da seguinte forma:')\n",
    "print(f'{(65/(67+27+28))*100:.2f}% para o cluster0, investindo apenas nas pessoas com idades entre 35 e 55 anos, sem distinção de sexo.')\n",
    "print(f'{(27/(67+27+28))*100:.2f}% para o cluster1, investindo apenas em pessoas do sexo masculino com idade entre 28 e 41 anos.')\n",
    "print(f'{(28/(67+27+28))*100:.2f}% para o cluster1, investindo apenas em pessoas do sexo masculino com idade entre 45 e 53 anos.')"
   ]
  }
 ],
 "metadata": {
  "kernelspec": {
   "display_name": "Python 3 (ipykernel)",
   "language": "python",
   "name": "python3"
  },
  "language_info": {
   "codemirror_mode": {
    "name": "ipython",
    "version": 3
   },
   "file_extension": ".py",
   "mimetype": "text/x-python",
   "name": "python",
   "nbconvert_exporter": "python",
   "pygments_lexer": "ipython3",
   "version": "3.9.12"
  }
 },
 "nbformat": 4,
 "nbformat_minor": 5
}
