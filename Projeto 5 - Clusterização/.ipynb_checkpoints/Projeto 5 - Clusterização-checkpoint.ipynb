{
 "cells": [
  {
   "cell_type": "markdown",
   "id": "d7b8ab0f",
   "metadata": {},
   "source": [
    "## <a> Objetivo de estudo </a> \n",
    "\n",
    "Neste projeto serão criados clusters (grupos) de clientes, também conhecido como segmentação de clientes. Serão aproveitados os componentes principais que foram criados no \"Projeto 4 - PCA\", para segmentar e avaliar quais clusters serão utilizados."
   ]
  },
  {
   "cell_type": "code",
   "execution_count": 12,
   "id": "86524abf",
   "metadata": {},
   "outputs": [],
   "source": [
    "# Importando as bibliotecas necessárias\n",
    "\n",
    "import pandas as pd\n",
    "import matplotlib.pyplot as plt\n",
    "import seaborn as sns\n",
    "import plotly.express as px\n",
    "from sklearn.cluster import KMeans"
   ]
  },
  {
   "cell_type": "code",
   "execution_count": 2,
   "id": "c67c54a9",
   "metadata": {},
   "outputs": [],
   "source": [
    "# Importando os conjuntos de dados\n",
    "\n",
    "pd.set_option('display.max_columns', None)\n",
    "\n",
    "data = pd.read_csv('microvan.csv')\n",
    "data_pca = pd.read_csv('microvan_pca', sep=',').round(2)"
   ]
  },
  {
   "cell_type": "code",
   "execution_count": 3,
   "id": "d2211f26",
   "metadata": {},
   "outputs": [
    {
     "data": {
      "text/html": [
       "<div>\n",
       "<style scoped>\n",
       "    .dataframe tbody tr th:only-of-type {\n",
       "        vertical-align: middle;\n",
       "    }\n",
       "\n",
       "    .dataframe tbody tr th {\n",
       "        vertical-align: top;\n",
       "    }\n",
       "\n",
       "    .dataframe thead th {\n",
       "        text-align: right;\n",
       "    }\n",
       "</style>\n",
       "<table border=\"1\" class=\"dataframe\">\n",
       "  <thead>\n",
       "    <tr style=\"text-align: right;\">\n",
       "      <th></th>\n",
       "      <th>age</th>\n",
       "      <th>income</th>\n",
       "      <th>miles</th>\n",
       "      <th>numkids</th>\n",
       "      <th>female</th>\n",
       "      <th>educ</th>\n",
       "      <th>recycle</th>\n",
       "      <th>mvliking</th>\n",
       "      <th>Workaholic</th>\n",
       "      <th>Compactos</th>\n",
       "      <th>Familiares</th>\n",
       "      <th>Intrépidos</th>\n",
       "      <th>Automotivos</th>\n",
       "    </tr>\n",
       "  </thead>\n",
       "  <tbody>\n",
       "    <tr>\n",
       "      <th>0</th>\n",
       "      <td>34</td>\n",
       "      <td>59</td>\n",
       "      <td>14</td>\n",
       "      <td>1</td>\n",
       "      <td>0</td>\n",
       "      <td>1</td>\n",
       "      <td>3</td>\n",
       "      <td>4</td>\n",
       "      <td>4.96</td>\n",
       "      <td>-0.63</td>\n",
       "      <td>0.25</td>\n",
       "      <td>4.53</td>\n",
       "      <td>0.48</td>\n",
       "    </tr>\n",
       "    <tr>\n",
       "      <th>1</th>\n",
       "      <td>36</td>\n",
       "      <td>79</td>\n",
       "      <td>16</td>\n",
       "      <td>1</td>\n",
       "      <td>0</td>\n",
       "      <td>3</td>\n",
       "      <td>4</td>\n",
       "      <td>6</td>\n",
       "      <td>-0.43</td>\n",
       "      <td>-4.58</td>\n",
       "      <td>-2.68</td>\n",
       "      <td>-2.62</td>\n",
       "      <td>-0.50</td>\n",
       "    </tr>\n",
       "    <tr>\n",
       "      <th>2</th>\n",
       "      <td>51</td>\n",
       "      <td>72</td>\n",
       "      <td>22</td>\n",
       "      <td>2</td>\n",
       "      <td>1</td>\n",
       "      <td>3</td>\n",
       "      <td>3</td>\n",
       "      <td>3</td>\n",
       "      <td>-4.20</td>\n",
       "      <td>6.00</td>\n",
       "      <td>2.46</td>\n",
       "      <td>1.55</td>\n",
       "      <td>-2.41</td>\n",
       "    </tr>\n",
       "    <tr>\n",
       "      <th>3</th>\n",
       "      <td>32</td>\n",
       "      <td>42</td>\n",
       "      <td>12</td>\n",
       "      <td>0</td>\n",
       "      <td>0</td>\n",
       "      <td>3</td>\n",
       "      <td>2</td>\n",
       "      <td>3</td>\n",
       "      <td>4.89</td>\n",
       "      <td>-0.93</td>\n",
       "      <td>-0.76</td>\n",
       "      <td>-3.58</td>\n",
       "      <td>3.52</td>\n",
       "    </tr>\n",
       "    <tr>\n",
       "      <th>4</th>\n",
       "      <td>40</td>\n",
       "      <td>75</td>\n",
       "      <td>17</td>\n",
       "      <td>1</td>\n",
       "      <td>1</td>\n",
       "      <td>3</td>\n",
       "      <td>4</td>\n",
       "      <td>1</td>\n",
       "      <td>0.12</td>\n",
       "      <td>5.55</td>\n",
       "      <td>-1.02</td>\n",
       "      <td>0.07</td>\n",
       "      <td>-0.84</td>\n",
       "    </tr>\n",
       "  </tbody>\n",
       "</table>\n",
       "</div>"
      ],
      "text/plain": [
       "   age  income  miles  numkids  female  educ  recycle  mvliking  Workaholic  \\\n",
       "0   34      59     14        1       0     1        3         4        4.96   \n",
       "1   36      79     16        1       0     3        4         6       -0.43   \n",
       "2   51      72     22        2       1     3        3         3       -4.20   \n",
       "3   32      42     12        0       0     3        2         3        4.89   \n",
       "4   40      75     17        1       1     3        4         1        0.12   \n",
       "\n",
       "   Compactos  Familiares  Intrépidos  Automotivos  \n",
       "0      -0.63        0.25        4.53         0.48  \n",
       "1      -4.58       -2.68       -2.62        -0.50  \n",
       "2       6.00        2.46        1.55        -2.41  \n",
       "3      -0.93       -0.76       -3.58         3.52  \n",
       "4       5.55       -1.02        0.07        -0.84  "
      ]
     },
     "execution_count": 3,
     "metadata": {},
     "output_type": "execute_result"
    }
   ],
   "source": [
    "# Atribuindo os componentes em cada indivíduo\n",
    "\n",
    "col_demograficas = data.columns[-7:].tolist()\n",
    "col_demograficas.append('mvliking')\n",
    "\n",
    "df = data[col_demograficas].join(data_pca)\n",
    "df.head()"
   ]
  },
  {
   "cell_type": "code",
   "execution_count": 4,
   "id": "9896f5c2",
   "metadata": {},
   "outputs": [
    {
     "data": {
      "image/png": "[encoded data removed]",
      "text/plain": [
       "<Figure size 432x288 with 1 Axes>"
      ]
     },
     "metadata": {
      "needs_background": "light"
     },
     "output_type": "display_data"
    }
   ],
   "source": [
    "# Definindo o erro para cada cluster com o objetivo de definir o número de grupos ideal.\n",
    "sse = {}\n",
    "\n",
    "for k in range(1, 11):\n",
    "    kmeans = KMeans(n_clusters=k, max_iter=1000).fit(df.loc[:, ['Workaholic', 'Compactos', 'Familiares', 'Intrépidos', 'Automotivos']])\n",
    "    \n",
    "    # Calcula a soma das distancias entre as observações e o centro de seu cluster\n",
    "    sse[k] = kmeans.inertia_\n",
    "    \n",
    "plt.figure()\n",
    "plt.plot(list(sse.keys()), list(sse.values()))\n",
    "plt.ylabel('Número de clusters')\n",
    "plt.xlabel('SSE')\n",
    "plt.show()"
   ]
  },
  {
   "cell_type": "code",
   "execution_count": 5,
   "id": "31920968",
   "metadata": {},
   "outputs": [
    {
     "data": {
      "text/html": [
       "<div>\n",
       "<style scoped>\n",
       "    .dataframe tbody tr th:only-of-type {\n",
       "        vertical-align: middle;\n",
       "    }\n",
       "\n",
       "    .dataframe tbody tr th {\n",
       "        vertical-align: top;\n",
       "    }\n",
       "\n",
       "    .dataframe thead th {\n",
       "        text-align: right;\n",
       "    }\n",
       "</style>\n",
       "<table border=\"1\" class=\"dataframe\">\n",
       "  <thead>\n",
       "    <tr style=\"text-align: right;\">\n",
       "      <th></th>\n",
       "      <th>age</th>\n",
       "      <th>income</th>\n",
       "      <th>miles</th>\n",
       "      <th>numkids</th>\n",
       "      <th>female</th>\n",
       "      <th>educ</th>\n",
       "      <th>recycle</th>\n",
       "      <th>mvliking</th>\n",
       "      <th>Workaholic</th>\n",
       "      <th>Compactos</th>\n",
       "      <th>Familiares</th>\n",
       "      <th>Intrépidos</th>\n",
       "      <th>Automotivos</th>\n",
       "      <th>Clusters</th>\n",
       "    </tr>\n",
       "  </thead>\n",
       "  <tbody>\n",
       "    <tr>\n",
       "      <th>0</th>\n",
       "      <td>34</td>\n",
       "      <td>59</td>\n",
       "      <td>14</td>\n",
       "      <td>1</td>\n",
       "      <td>0</td>\n",
       "      <td>1</td>\n",
       "      <td>3</td>\n",
       "      <td>4</td>\n",
       "      <td>4.96</td>\n",
       "      <td>-0.63</td>\n",
       "      <td>0.25</td>\n",
       "      <td>4.53</td>\n",
       "      <td>0.48</td>\n",
       "      <td>2</td>\n",
       "    </tr>\n",
       "    <tr>\n",
       "      <th>1</th>\n",
       "      <td>36</td>\n",
       "      <td>79</td>\n",
       "      <td>16</td>\n",
       "      <td>1</td>\n",
       "      <td>0</td>\n",
       "      <td>3</td>\n",
       "      <td>4</td>\n",
       "      <td>6</td>\n",
       "      <td>-0.43</td>\n",
       "      <td>-4.58</td>\n",
       "      <td>-2.68</td>\n",
       "      <td>-2.62</td>\n",
       "      <td>-0.50</td>\n",
       "      <td>0</td>\n",
       "    </tr>\n",
       "    <tr>\n",
       "      <th>2</th>\n",
       "      <td>51</td>\n",
       "      <td>72</td>\n",
       "      <td>22</td>\n",
       "      <td>2</td>\n",
       "      <td>1</td>\n",
       "      <td>3</td>\n",
       "      <td>3</td>\n",
       "      <td>3</td>\n",
       "      <td>-4.20</td>\n",
       "      <td>6.00</td>\n",
       "      <td>2.46</td>\n",
       "      <td>1.55</td>\n",
       "      <td>-2.41</td>\n",
       "      <td>1</td>\n",
       "    </tr>\n",
       "    <tr>\n",
       "      <th>3</th>\n",
       "      <td>32</td>\n",
       "      <td>42</td>\n",
       "      <td>12</td>\n",
       "      <td>0</td>\n",
       "      <td>0</td>\n",
       "      <td>3</td>\n",
       "      <td>2</td>\n",
       "      <td>3</td>\n",
       "      <td>4.89</td>\n",
       "      <td>-0.93</td>\n",
       "      <td>-0.76</td>\n",
       "      <td>-3.58</td>\n",
       "      <td>3.52</td>\n",
       "      <td>2</td>\n",
       "    </tr>\n",
       "    <tr>\n",
       "      <th>4</th>\n",
       "      <td>40</td>\n",
       "      <td>75</td>\n",
       "      <td>17</td>\n",
       "      <td>1</td>\n",
       "      <td>1</td>\n",
       "      <td>3</td>\n",
       "      <td>4</td>\n",
       "      <td>1</td>\n",
       "      <td>0.12</td>\n",
       "      <td>5.55</td>\n",
       "      <td>-1.02</td>\n",
       "      <td>0.07</td>\n",
       "      <td>-0.84</td>\n",
       "      <td>1</td>\n",
       "    </tr>\n",
       "  </tbody>\n",
       "</table>\n",
       "</div>"
      ],
      "text/plain": [
       "   age  income  miles  numkids  female  educ  recycle  mvliking  Workaholic  \\\n",
       "0   34      59     14        1       0     1        3         4        4.96   \n",
       "1   36      79     16        1       0     3        4         6       -0.43   \n",
       "2   51      72     22        2       1     3        3         3       -4.20   \n",
       "3   32      42     12        0       0     3        2         3        4.89   \n",
       "4   40      75     17        1       1     3        4         1        0.12   \n",
       "\n",
       "   Compactos  Familiares  Intrépidos  Automotivos  Clusters  \n",
       "0      -0.63        0.25        4.53         0.48         2  \n",
       "1      -4.58       -2.68       -2.62        -0.50         0  \n",
       "2       6.00        2.46        1.55        -2.41         1  \n",
       "3      -0.93       -0.76       -3.58         3.52         2  \n",
       "4       5.55       -1.02        0.07        -0.84         1  "
      ]
     },
     "execution_count": 5,
     "metadata": {},
     "output_type": "execute_result"
    }
   ],
   "source": [
    "# O \"cotovelo\" se formou no cluster de número 3. Será o valor utilizado.\n",
    "\n",
    "kmeans = KMeans(n_clusters=3, max_iter=1000).fit(df.loc[:, ['Workaholic', 'Compactos', 'Familiares', 'Intrépidos', 'Automotivos']])\n",
    "\n",
    "# Incluindo a informação de qual cluster cada observação pertence\n",
    "df['Clusters'] = kmeans.labels_\n",
    "\n",
    "df.head()"
   ]
  },
  {
   "cell_type": "code",
   "execution_count": 7,
   "id": "bd6d486a",
   "metadata": {
    "scrolled": true
   },
   "outputs": [
    {
     "data": {
      "text/html": [
       "<div>\n",
       "<style scoped>\n",
       "    .dataframe tbody tr th:only-of-type {\n",
       "        vertical-align: middle;\n",
       "    }\n",
       "\n",
       "    .dataframe tbody tr th {\n",
       "        vertical-align: top;\n",
       "    }\n",
       "\n",
       "    .dataframe thead th {\n",
       "        text-align: right;\n",
       "    }\n",
       "</style>\n",
       "<table border=\"1\" class=\"dataframe\">\n",
       "  <thead>\n",
       "    <tr style=\"text-align: right;\">\n",
       "      <th></th>\n",
       "      <th>Workaholic</th>\n",
       "      <th>Compactos</th>\n",
       "      <th>Familiares</th>\n",
       "      <th>Intrépidos</th>\n",
       "      <th>Automotivos</th>\n",
       "    </tr>\n",
       "  </thead>\n",
       "  <tbody>\n",
       "    <tr>\n",
       "      <th>0</th>\n",
       "      <td>-3.481478</td>\n",
       "      <td>-3.880174</td>\n",
       "      <td>0.007478</td>\n",
       "      <td>-0.010174</td>\n",
       "      <td>-0.069043</td>\n",
       "    </tr>\n",
       "    <tr>\n",
       "      <th>1</th>\n",
       "      <td>-2.908889</td>\n",
       "      <td>3.760159</td>\n",
       "      <td>-0.336508</td>\n",
       "      <td>0.115873</td>\n",
       "      <td>0.113254</td>\n",
       "    </tr>\n",
       "    <tr>\n",
       "      <th>2</th>\n",
       "      <td>4.823522</td>\n",
       "      <td>-0.173711</td>\n",
       "      <td>0.260881</td>\n",
       "      <td>-0.083962</td>\n",
       "      <td>-0.039748</td>\n",
       "    </tr>\n",
       "  </tbody>\n",
       "</table>\n",
       "</div>"
      ],
      "text/plain": [
       "   Workaholic  Compactos  Familiares  Intrépidos  Automotivos\n",
       "0   -3.481478  -3.880174    0.007478   -0.010174    -0.069043\n",
       "1   -2.908889   3.760159   -0.336508    0.115873     0.113254\n",
       "2    4.823522  -0.173711    0.260881   -0.083962    -0.039748"
      ]
     },
     "execution_count": 7,
     "metadata": {},
     "output_type": "execute_result"
    }
   ],
   "source": [
    "# Visualizando os centróides para cada cluster. Nota-se que os componentes \"Workaholic\" e \"Compactos\" tiveram maior impacto.\n",
    "\n",
    "centroides = pd.DataFrame(data=kmeans.cluster_centers_, columns=['Workaholic', 'Compactos', 'Familiares', 'Intrépidos', 'Automotivos'])\n",
    "centroides"
   ]
  },
  {
   "cell_type": "markdown",
   "id": "65aaad90",
   "metadata": {},
   "source": [
    "#### Conclui-se que os clusters possuem as seguintes características:\n",
    "\n",
    "Cluster 0: Não tem cuidado com o dinheiro (gastam bastante), amam férias e gostam de carros espaçosos.\n",
    "\n",
    "Cluster 1: Não tem cuidado com o dinheiro (gastam bastante), amam férias e gostam de carros pequenos.\n",
    "\n",
    "Cluster 2: São apegados ao dinheiro e não tiram férias."
   ]
  },
  {
   "cell_type": "code",
   "execution_count": 10,
   "id": "98d25444",
   "metadata": {},
   "outputs": [],
   "source": [
    "# Criando um Dataframe para cada cluster para facilitar a análise dos grupos\n",
    "\n",
    "cluster0 = df.loc[df['Clusters'] == 0]\n",
    "cluster1 = df.loc[df['Clusters'] == 1]\n",
    "cluster2 = df.loc[df['Clusters'] == 2]"
   ]
  },
  {
   "cell_type": "markdown",
   "id": "433d90c0",
   "metadata": {},
   "source": [
    "### Análise dos clusters"
   ]
  },
  {
   "cell_type": "code",
   "execution_count": 115,
   "id": "cc452963",
   "metadata": {},
   "outputs": [
    {
     "data": {
      "image/png": "[encoded data removed]",
      "text/plain": [
       "<Figure size 576x1296 with 15 Axes>"
      ]
     },
     "metadata": {
      "needs_background": "light"
     },
     "output_type": "display_data"
    }
   ],
   "source": [
    "# Visualizando a distribuição dos dados em cada cluster.\n",
    "\n",
    "variaveis = ['age', 'income', 'miles', 'numkids', 'mvliking']\n",
    "\n",
    "fig, ax = plt.subplots(5, 3, layout='constrained', figsize=(8, 18))\n",
    "\n",
    "for i in range(3):\n",
    "    cluster = globals()[f'cluster{i}']\n",
    "    for j, variavel in enumerate(variaveis):\n",
    "        sns.boxplot(data=cluster, y=cluster[variavel], ax=ax[j, i]).set_title(f'cluster{i}')\n",
    "\n",
    "plt.show()"
   ]
  },
  {
   "cell_type": "code",
   "execution_count": 125,
   "id": "0df991a7",
   "metadata": {},
   "outputs": [
    {
     "data": {
      "image/png": "[encoded data removed]",
      "text/plain": [
       "<Figure size 720x288 with 3 Axes>"
      ]
     },
     "metadata": {
      "needs_background": "light"
     },
     "output_type": "display_data"
    }
   ],
   "source": [
    "fig, ax = plt.subplots(1, 3, layout='constrained', figsize=(10, 4))\n",
    "\n",
    "for i in range(3):\n",
    "    cluster = globals()[f'cluster{i}']\n",
    "    for j in range(3):\n",
    "        sns.histplot(data=cluster, x='mvliking', ax=ax[i], bins=10).set_title(f'cluster{i}')"
   ]
  },
  {
   "cell_type": "code",
   "execution_count": 114,
   "id": "715ac905",
   "metadata": {},
   "outputs": [
    {
     "data": {
      "image/png": "[encoded data removed]",
      "text/plain": [
       "<Figure size 720x288 with 3 Axes>"
      ]
     },
     "metadata": {
      "needs_background": "light"
     },
     "output_type": "display_data"
    }
   ],
   "source": [
    "fig, ax = plt.subplots(1, 3, layout='constrained', figsize=(10, 4))\n",
    "\n",
    "for i in range(3):\n",
    "    cluster = globals()[f'cluster{i}']\n",
    "    for j in range(3):\n",
    "        sns.countplot(data=cluster, x='female', ax=ax[i]).set_title(f'cluster{i}')"
   ]
  },
  {
   "cell_type": "code",
   "execution_count": null,
   "id": "6854b045",
   "metadata": {},
   "outputs": [],
   "source": [
    "# Cluster 0 foi o que mais gostou. Verificar características demográficas deste cluster para ver o público alvo.\n",
    "# certamente será o alvo das campanhas de marketing.\n",
    "\n",
    "# Cluster 1 e 2 verificar quais características demográficas dos participantes que gostaram ('mvliking')\n",
    "\n",
    "# Talvez tirar uma proporção (%) para dividir os gastos da campanha através do número (count) de pessoas que deram nota máxima.\n",
    "# Ex: 100 notas 9, sendo que 75% foi no cluster0, 10% no cluster 1, 15% no cluster 2.\n",
    "\n",
    "# Verificar se o count do female está correto"
   ]
  }
 ],
 "metadata": {
  "kernelspec": {
   "display_name": "Python 3 (ipykernel)",
   "language": "python",
   "name": "python3"
  },
  "language_info": {
   "codemirror_mode": {
    "name": "ipython",
    "version": 3
   },
   "file_extension": ".py",
   "mimetype": "text/x-python",
   "name": "python",
   "nbconvert_exporter": "python",
   "pygments_lexer": "ipython3",
   "version": "3.9.12"
  }
 },
 "nbformat": 4,
 "nbformat_minor": 5
}
